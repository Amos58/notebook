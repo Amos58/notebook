{
 "cells": [
  {
   "cell_type": "code",
   "execution_count": 5,
   "id": "f05935b4",
   "metadata": {},
   "outputs": [
    {
     "data": {
      "text/plain": [
       "[' 驱动器 D 中的卷是 Data',\n",
       " ' 卷的序列号是 80BF-64A0',\n",
       " '',\n",
       " ' D:\\\\jupyter 的目录',\n",
       " '',\n",
       " '2021/08/10  20:08    <DIR>          .',\n",
       " '2021/08/10  20:08    <DIR>          ..',\n",
       " '2021/08/10  20:02    <DIR>          .ipynb_checkpoints',\n",
       " '2021/07/31  00:11            22,636 NTLK入门.ipynb',\n",
       " '2021/06/12  18:30            38,521 PCA.ipynb',\n",
       " '2021/07/19  20:39            31,939 sample_submission.csv',\n",
       " '2021/07/19  20:39           451,405 test.csv',\n",
       " '2021/07/19  20:39           460,676 train.csv',\n",
       " '2021/07/19  22:35             8,613 Untitled.ipynb',\n",
       " '2021/08/10  20:08             1,410 Untitled1.ipynb',\n",
       " '               7 个文件      1,015,200 字节',\n",
       " '               3 个目录 186,375,020,544 可用字节']"
      ]
     },
     "execution_count": 5,
     "metadata": {},
     "output_type": "execute_result"
    }
   ],
   "source": [
    "%system dir *.*"
   ]
  },
  {
   "cell_type": "code",
   "execution_count": 10,
   "id": "64cae3d8",
   "metadata": {},
   "outputs": [
    {
     "name": "stderr",
     "output_type": "stream",
     "text": [
      "UsageError: %%latex is a cell magic, but the cell body is empty.\n"
     ]
    }
   ],
   "source": [
    "%%latex"
   ]
  }
 ],
 "metadata": {
  "kernelspec": {
   "display_name": "Python 3",
   "language": "python",
   "name": "python3"
  },
  "language_info": {
   "codemirror_mode": {
    "name": "ipython",
    "version": 3
   },
   "file_extension": ".py",
   "mimetype": "text/x-python",
   "name": "python",
   "nbconvert_exporter": "python",
   "pygments_lexer": "ipython3",
   "version": "3.8.8"
  }
 },
 "nbformat": 4,
 "nbformat_minor": 5
}
