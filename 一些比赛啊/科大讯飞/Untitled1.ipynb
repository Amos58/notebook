{
 "cells": [
  {
   "cell_type": "code",
   "execution_count": 33,
   "id": "9b2174af",
   "metadata": {},
   "outputs": [
    {
     "name": "stdout",
     "output_type": "stream",
     "text": [
      "1\n",
      "2\n"
     ]
    }
   ],
   "source": [
    "len=3\n",
    "for i in range(len-1):\n",
    "    print(i+1)"
   ]
  },
  {
   "cell_type": "code",
   "execution_count": 13,
   "id": "0cd6f4d3",
   "metadata": {},
   "outputs": [
    {
     "name": "stdout",
     "output_type": "stream",
     "text": [
      "  image_id type         x         y         h         w\n",
      "0    0725)    0  0.489387  0.482353  0.076258  0.376471\n",
      "1        1    0  0.560429  0.589744  0.329435  0.307692\n",
      "2        1    0  0.638402  0.251479  0.368421  0.475345\n",
      "3      109    0  0.635086  0.421296  0.281415  0.218254\n",
      "4      109    0  0.532738  0.712963  0.171296  0.320767\n",
      "(1249, 6)\n"
     ]
    },
    {
     "data": {
      "text/plain": [
       "0"
      ]
     },
     "execution_count": 13,
     "metadata": {},
     "output_type": "execute_result"
    }
   ],
   "source": [
    "import pandas as pd \n",
    "import numpy as np \n",
    "import os\n",
    "os.getcwd()  \n",
    "os.chdir('D:/迅雷下载/华南农业大学_柑橘病虫害识别挑战赛/初赛/训练集/labels/')  \n",
    "path = 'D:/迅雷下载/华南农业大学_柑橘病虫害识别挑战赛/初赛/训练集/labels/'\n",
    "os.listdir(path)\n",
    "\n",
    "datalist = []\n",
    "for i in os.listdir(path):\n",
    "    if os.path.splitext(i)[1] == '.txt':   \n",
    "        datalist.append(i)\n",
    "\n",
    "df = pd.DataFrame(columns=['image_id', 'type', 'x','y','h','w'])\n",
    "df.head()\n",
    "dates = pd.read_csv('D:/迅雷下载/华南农业大学_柑橘病虫害识别挑战赛/初赛/训练集/labels/1.txt',sep='\\s+',header=None)\n",
    "#print(dates.iat[0,1])\n",
    "\n",
    "for txt in datalist:\n",
    "    data_path = os.path.join(path,txt)  \n",
    "    datas=pd.read_csv(data_path,sep='\\s+',header=None)\n",
    "    len=int(datas.shape[0])\n",
    "    for i in range(len-1):\n",
    "        m=re.sub('[.txt]','',str(txt))\n",
    "        df=df.append({'image_id':m,'type':datas.iat[i,0],'x':datas.iat[i,1],'y':datas.iat[i,2],'h':datas.iat[i,3],'w':datas.iat[i,4]},ignore_index=True)\n",
    "\n",
    "print(df.head(5))  \n",
    "print(df.shape)  \n",
    "df.isnull().sum()  \n",
    "df.duplicated().sum() \n",
    "\n",
    "#df.to_csv('D:/迅雷下载/华南农业大学_柑橘病虫害识别挑战赛/初赛/训练集/labels/sample_submission.csv',index=False)"
   ]
  },
  {
   "cell_type": "code",
   "execution_count": 2,
   "id": "67e1bd59",
   "metadata": {},
   "outputs": [],
   "source": [
    "#导入包\n",
    "import os\n",
    "import gc\n",
    "import re\n",
    "\n",
    "import cv2\n",
    "import math\n",
    "import numpy as np\n",
    "import scipy as sp\n",
    "import pandas as pd\n",
    "\n",
    "import tensorflow as tf\n",
    "from IPython.display import SVG\n",
    "import efficientnet.tfkeras as efn\n",
    "from tensorflow.python.keras.utils.vis_utils import plot_model\n",
    "import tensorflow.keras.layers as L\n",
    "from tensorflow.python.keras.utils.vis_utils import model_to_dot\n",
    "import tensorflow.keras.backend as K\n",
    "from tensorflow.keras.models import Model\n",
    "#from kaggle_datasets import KaggleDatasets\n",
    "from tensorflow.keras.applications import DenseNet121\n",
    "\n",
    "import seaborn as sns\n",
    "from tqdm import tqdm\n",
    "import matplotlib.pyplot as plt\n",
    "from sklearn.utils import shuffle\n",
    "from sklearn.model_selection import train_test_split\n",
    "\n",
    "tqdm.pandas()\n",
    "import plotly.express as px\n",
    "import plotly.graph_objects as go\n",
    "import plotly.figure_factory as ff\n",
    "from plotly.subplots import make_subplots\n",
    "\n",
    "np.random.seed(0)\n",
    "tf.random.set_seed(0)\n",
    "\n",
    "import warnings\n",
    "warnings.filterwarnings(\"ignore\")"
   ]
  },
  {
   "cell_type": "code",
   "execution_count": 20,
   "id": "49881a36",
   "metadata": {},
   "outputs": [
    {
     "name": "stderr",
     "output_type": "stream",
     "text": [
      "  1%|▊                                                                                 | 5/522 [00:00<00:17, 29.47it/s]"
     ]
    },
    {
     "name": "stdout",
     "output_type": "stream",
     "text": [
      "  image_id type         x         y         h         w\n",
      "0    0725)    0  0.489387  0.482353  0.076258  0.376471\n",
      "1        1    0  0.560429  0.589744  0.329435  0.307692\n",
      "2        1    0  0.638402  0.251479  0.368421  0.475345\n",
      "3      109    0  0.635086  0.421296  0.281415  0.218254\n",
      "4      109    0  0.532738  0.712963  0.171296  0.320767\n"
     ]
    },
    {
     "name": "stderr",
     "output_type": "stream",
     "text": [
      " 72%|█████████████████████████████████████████████████████████▌                      | 376/522 [01:09<00:27,  5.40it/s]\n"
     ]
    },
    {
     "ename": "error",
     "evalue": "OpenCV(4.5.3) C:\\Users\\runneradmin\\AppData\\Local\\Temp\\pip-req-build-q3d_8t8e\\opencv\\modules\\core\\src\\alloc.cpp:73: error: (-4:Insufficient memory) Failed to allocate 72000000 bytes in function 'cv::OutOfMemoryError'\n",
     "output_type": "error",
     "traceback": [
      "\u001b[1;31m---------------------------------------------------------------------------\u001b[0m",
      "\u001b[1;31merror\u001b[0m                                     Traceback (most recent call last)",
      "\u001b[1;32m<ipython-input-20-bd3b11f01eb3>\u001b[0m in \u001b[0;36m<module>\u001b[1;34m\u001b[0m\n\u001b[0;32m     17\u001b[0m     \u001b[0mimage\u001b[0m\u001b[1;33m=\u001b[0m\u001b[0mcv2\u001b[0m\u001b[1;33m.\u001b[0m\u001b[0mimread\u001b[0m\u001b[1;33m(\u001b[0m\u001b[0mIMAGE_PATH\u001b[0m\u001b[1;33m+\u001b[0m\u001b[0mfile_path\u001b[0m\u001b[1;33m)\u001b[0m\u001b[1;33m\u001b[0m\u001b[1;33m\u001b[0m\u001b[0m\n\u001b[0;32m     18\u001b[0m     \u001b[1;32mreturn\u001b[0m \u001b[0mcv2\u001b[0m\u001b[1;33m.\u001b[0m\u001b[0mcvtColor\u001b[0m\u001b[1;33m(\u001b[0m\u001b[0mimage\u001b[0m\u001b[1;33m,\u001b[0m\u001b[0mcv2\u001b[0m\u001b[1;33m.\u001b[0m\u001b[0mCOLOR_BGR2RGB\u001b[0m\u001b[1;33m)\u001b[0m\u001b[1;33m\u001b[0m\u001b[1;33m\u001b[0m\u001b[0m\n\u001b[1;32m---> 19\u001b[1;33m \u001b[0mtrain_images\u001b[0m\u001b[1;33m=\u001b[0m\u001b[0mtrain_data\u001b[0m\u001b[1;33m[\u001b[0m\u001b[1;34m\"image_id\"\u001b[0m\u001b[1;33m]\u001b[0m\u001b[1;33m[\u001b[0m\u001b[1;33m:\u001b[0m\u001b[0mSAMPLE_LEN\u001b[0m\u001b[1;33m]\u001b[0m\u001b[1;33m.\u001b[0m\u001b[0mprogress_apply\u001b[0m\u001b[1;33m(\u001b[0m\u001b[0mload_image\u001b[0m\u001b[1;33m)\u001b[0m\u001b[1;33m\u001b[0m\u001b[1;33m\u001b[0m\u001b[0m\n\u001b[0m",
      "\u001b[1;32mD:\\Anaconda\\lib\\site-packages\\tqdm\\std.py\u001b[0m in \u001b[0;36minner\u001b[1;34m(df, func, *args, **kwargs)\u001b[0m\n\u001b[0;32m    808\u001b[0m                 \u001b[1;31m# on the df using our wrapper (which provides bar updating)\u001b[0m\u001b[1;33m\u001b[0m\u001b[1;33m\u001b[0m\u001b[1;33m\u001b[0m\u001b[0m\n\u001b[0;32m    809\u001b[0m                 \u001b[1;32mtry\u001b[0m\u001b[1;33m:\u001b[0m\u001b[1;33m\u001b[0m\u001b[1;33m\u001b[0m\u001b[0m\n\u001b[1;32m--> 810\u001b[1;33m                     \u001b[1;32mreturn\u001b[0m \u001b[0mgetattr\u001b[0m\u001b[1;33m(\u001b[0m\u001b[0mdf\u001b[0m\u001b[1;33m,\u001b[0m \u001b[0mdf_function\u001b[0m\u001b[1;33m)\u001b[0m\u001b[1;33m(\u001b[0m\u001b[0mwrapper\u001b[0m\u001b[1;33m,\u001b[0m \u001b[1;33m**\u001b[0m\u001b[0mkwargs\u001b[0m\u001b[1;33m)\u001b[0m\u001b[1;33m\u001b[0m\u001b[1;33m\u001b[0m\u001b[0m\n\u001b[0m\u001b[0;32m    811\u001b[0m                 \u001b[1;32mfinally\u001b[0m\u001b[1;33m:\u001b[0m\u001b[1;33m\u001b[0m\u001b[1;33m\u001b[0m\u001b[0m\n\u001b[0;32m    812\u001b[0m                     \u001b[0mt\u001b[0m\u001b[1;33m.\u001b[0m\u001b[0mclose\u001b[0m\u001b[1;33m(\u001b[0m\u001b[1;33m)\u001b[0m\u001b[1;33m\u001b[0m\u001b[1;33m\u001b[0m\u001b[0m\n",
      "\u001b[1;32mD:\\Anaconda\\lib\\site-packages\\pandas\\core\\series.py\u001b[0m in \u001b[0;36mapply\u001b[1;34m(self, func, convert_dtype, args, **kwds)\u001b[0m\n\u001b[0;32m   4136\u001b[0m             \u001b[1;32melse\u001b[0m\u001b[1;33m:\u001b[0m\u001b[1;33m\u001b[0m\u001b[1;33m\u001b[0m\u001b[0m\n\u001b[0;32m   4137\u001b[0m                 \u001b[0mvalues\u001b[0m \u001b[1;33m=\u001b[0m \u001b[0mself\u001b[0m\u001b[1;33m.\u001b[0m\u001b[0mastype\u001b[0m\u001b[1;33m(\u001b[0m\u001b[0mobject\u001b[0m\u001b[1;33m)\u001b[0m\u001b[1;33m.\u001b[0m\u001b[0m_values\u001b[0m\u001b[1;33m\u001b[0m\u001b[1;33m\u001b[0m\u001b[0m\n\u001b[1;32m-> 4138\u001b[1;33m                 \u001b[0mmapped\u001b[0m \u001b[1;33m=\u001b[0m \u001b[0mlib\u001b[0m\u001b[1;33m.\u001b[0m\u001b[0mmap_infer\u001b[0m\u001b[1;33m(\u001b[0m\u001b[0mvalues\u001b[0m\u001b[1;33m,\u001b[0m \u001b[0mf\u001b[0m\u001b[1;33m,\u001b[0m \u001b[0mconvert\u001b[0m\u001b[1;33m=\u001b[0m\u001b[0mconvert_dtype\u001b[0m\u001b[1;33m)\u001b[0m\u001b[1;33m\u001b[0m\u001b[1;33m\u001b[0m\u001b[0m\n\u001b[0m\u001b[0;32m   4139\u001b[0m \u001b[1;33m\u001b[0m\u001b[0m\n\u001b[0;32m   4140\u001b[0m         \u001b[1;32mif\u001b[0m \u001b[0mlen\u001b[0m\u001b[1;33m(\u001b[0m\u001b[0mmapped\u001b[0m\u001b[1;33m)\u001b[0m \u001b[1;32mand\u001b[0m \u001b[0misinstance\u001b[0m\u001b[1;33m(\u001b[0m\u001b[0mmapped\u001b[0m\u001b[1;33m[\u001b[0m\u001b[1;36m0\u001b[0m\u001b[1;33m]\u001b[0m\u001b[1;33m,\u001b[0m \u001b[0mSeries\u001b[0m\u001b[1;33m)\u001b[0m\u001b[1;33m:\u001b[0m\u001b[1;33m\u001b[0m\u001b[1;33m\u001b[0m\u001b[0m\n",
      "\u001b[1;32mpandas\\_libs\\lib.pyx\u001b[0m in \u001b[0;36mpandas._libs.lib.map_infer\u001b[1;34m()\u001b[0m\n",
      "\u001b[1;32mD:\\Anaconda\\lib\\site-packages\\tqdm\\std.py\u001b[0m in \u001b[0;36mwrapper\u001b[1;34m(*args, **kwargs)\u001b[0m\n\u001b[0;32m    803\u001b[0m                     \u001b[1;31m# take a fast or slow code path; so stop when t.total==t.n\u001b[0m\u001b[1;33m\u001b[0m\u001b[1;33m\u001b[0m\u001b[1;33m\u001b[0m\u001b[0m\n\u001b[0;32m    804\u001b[0m                     \u001b[0mt\u001b[0m\u001b[1;33m.\u001b[0m\u001b[0mupdate\u001b[0m\u001b[1;33m(\u001b[0m\u001b[0mn\u001b[0m\u001b[1;33m=\u001b[0m\u001b[1;36m1\u001b[0m \u001b[1;32mif\u001b[0m \u001b[1;32mnot\u001b[0m \u001b[0mt\u001b[0m\u001b[1;33m.\u001b[0m\u001b[0mtotal\u001b[0m \u001b[1;32mor\u001b[0m \u001b[0mt\u001b[0m\u001b[1;33m.\u001b[0m\u001b[0mn\u001b[0m \u001b[1;33m<\u001b[0m \u001b[0mt\u001b[0m\u001b[1;33m.\u001b[0m\u001b[0mtotal\u001b[0m \u001b[1;32melse\u001b[0m \u001b[1;36m0\u001b[0m\u001b[1;33m)\u001b[0m\u001b[1;33m\u001b[0m\u001b[1;33m\u001b[0m\u001b[0m\n\u001b[1;32m--> 805\u001b[1;33m                     \u001b[1;32mreturn\u001b[0m \u001b[0mfunc\u001b[0m\u001b[1;33m(\u001b[0m\u001b[1;33m*\u001b[0m\u001b[0margs\u001b[0m\u001b[1;33m,\u001b[0m \u001b[1;33m**\u001b[0m\u001b[0mkwargs\u001b[0m\u001b[1;33m)\u001b[0m\u001b[1;33m\u001b[0m\u001b[1;33m\u001b[0m\u001b[0m\n\u001b[0m\u001b[0;32m    806\u001b[0m \u001b[1;33m\u001b[0m\u001b[0m\n\u001b[0;32m    807\u001b[0m                 \u001b[1;31m# Apply the provided function (in **kwargs)\u001b[0m\u001b[1;33m\u001b[0m\u001b[1;33m\u001b[0m\u001b[1;33m\u001b[0m\u001b[0m\n",
      "\u001b[1;32m<ipython-input-20-bd3b11f01eb3>\u001b[0m in \u001b[0;36mload_image\u001b[1;34m(image_id)\u001b[0m\n\u001b[0;32m     15\u001b[0m \u001b[1;32mdef\u001b[0m \u001b[0mload_image\u001b[0m\u001b[1;33m(\u001b[0m\u001b[0mimage_id\u001b[0m\u001b[1;33m)\u001b[0m\u001b[1;33m:\u001b[0m\u001b[1;33m\u001b[0m\u001b[1;33m\u001b[0m\u001b[0m\n\u001b[0;32m     16\u001b[0m     \u001b[0mfile_path\u001b[0m\u001b[1;33m=\u001b[0m\u001b[0mimage_id\u001b[0m\u001b[1;33m+\u001b[0m\u001b[1;34m\".jpg\"\u001b[0m\u001b[1;33m\u001b[0m\u001b[1;33m\u001b[0m\u001b[0m\n\u001b[1;32m---> 17\u001b[1;33m     \u001b[0mimage\u001b[0m\u001b[1;33m=\u001b[0m\u001b[0mcv2\u001b[0m\u001b[1;33m.\u001b[0m\u001b[0mimread\u001b[0m\u001b[1;33m(\u001b[0m\u001b[0mIMAGE_PATH\u001b[0m\u001b[1;33m+\u001b[0m\u001b[0mfile_path\u001b[0m\u001b[1;33m)\u001b[0m\u001b[1;33m\u001b[0m\u001b[1;33m\u001b[0m\u001b[0m\n\u001b[0m\u001b[0;32m     18\u001b[0m     \u001b[1;32mreturn\u001b[0m \u001b[0mcv2\u001b[0m\u001b[1;33m.\u001b[0m\u001b[0mcvtColor\u001b[0m\u001b[1;33m(\u001b[0m\u001b[0mimage\u001b[0m\u001b[1;33m,\u001b[0m\u001b[0mcv2\u001b[0m\u001b[1;33m.\u001b[0m\u001b[0mCOLOR_BGR2RGB\u001b[0m\u001b[1;33m)\u001b[0m\u001b[1;33m\u001b[0m\u001b[1;33m\u001b[0m\u001b[0m\n\u001b[0;32m     19\u001b[0m \u001b[0mtrain_images\u001b[0m\u001b[1;33m=\u001b[0m\u001b[0mtrain_data\u001b[0m\u001b[1;33m[\u001b[0m\u001b[1;34m\"image_id\"\u001b[0m\u001b[1;33m]\u001b[0m\u001b[1;33m[\u001b[0m\u001b[1;33m:\u001b[0m\u001b[0mSAMPLE_LEN\u001b[0m\u001b[1;33m]\u001b[0m\u001b[1;33m.\u001b[0m\u001b[0mprogress_apply\u001b[0m\u001b[1;33m(\u001b[0m\u001b[0mload_image\u001b[0m\u001b[1;33m)\u001b[0m\u001b[1;33m\u001b[0m\u001b[1;33m\u001b[0m\u001b[0m\n",
      "\u001b[1;31merror\u001b[0m: OpenCV(4.5.3) C:\\Users\\runneradmin\\AppData\\Local\\Temp\\pip-req-build-q3d_8t8e\\opencv\\modules\\core\\src\\alloc.cpp:73: error: (-4:Insufficient memory) Failed to allocate 72000000 bytes in function 'cv::OutOfMemoryError'\n"
     ]
    }
   ],
   "source": [
    "#导入数据\n",
    "\n",
    "EPOCHS=20\n",
    "SAMPLE_LEN=522\n",
    "IMAGE_PATH=\"D:/preliminary contest/train/images/\"\n",
    "TEST_PATH=\"\"\n",
    "TRAIN_PATH=\"D:/preliminary contest/train/images//labels/\"\n",
    "SUB_PATH=\"D:/preliminary contest/train/images/sample_submission.csv\"\n",
    "\n",
    "train_data=df\n",
    "print(train_data.head())\n",
    "#sub=pd.read_csv(SUB_PATH)\n",
    "\n",
    "#导入图片\n",
    "def load_image(image_id):\n",
    "    file_path=image_id+\".jpg\"\n",
    "    image=cv2.imread(IMAGE_PATH+file_path)\n",
    "    return cv2.cvtColor(image,cv2.COLOR_BGR2RGB)\n",
    "train_images=train_data[\"image_id\"][:SAMPLE_LEN].progress_apply(load_image)"
   ]
  },
  {
   "cell_type": "code",
   "execution_count": 19,
   "id": "886025a1",
   "metadata": {},
   "outputs": [
    {
     "data": {
      "application/vnd.plotly.v1+json": {
       "config": {
        "plotlyServerURL": "https://plot.ly"
       },
       "data": [
        {
         "hovertemplate": "x: %{x}<br>y: %{y}<br>color: [%{z[0]}, %{z[1]}, %{z[2]}]<extra></extra>",
         "name": "0",
         "source": "data:image/png;base64,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",
         "type": "image",
         "xaxis": "x",
         "yaxis": "y"
        }
       ],
       "layout": {
        "margin": {
         "t": 60
        },
        "template": {
         "data": {
          "bar": [
           {
            "error_x": {
             "color": "#2a3f5f"
            },
            "error_y": {
             "color": "#2a3f5f"
            },
            "marker": {
             "line": {
              "color": "#E5ECF6",
              "width": 0.5
             },
             "pattern": {
              "fillmode": "overlay",
              "size": 10,
              "solidity": 0.2
             }
            },
            "type": "bar"
           }
          ],
          "barpolar": [
           {
            "marker": {
             "line": {
              "color": "#E5ECF6",
              "width": 0.5
             },
             "pattern": {
              "fillmode": "overlay",
              "size": 10,
              "solidity": 0.2
             }
            },
            "type": "barpolar"
           }
          ],
          "carpet": [
           {
            "aaxis": {
             "endlinecolor": "#2a3f5f",
             "gridcolor": "white",
             "linecolor": "white",
             "minorgridcolor": "white",
             "startlinecolor": "#2a3f5f"
            },
            "baxis": {
             "endlinecolor": "#2a3f5f",
             "gridcolor": "white",
             "linecolor": "white",
             "minorgridcolor": "white",
             "startlinecolor": "#2a3f5f"
            },
            "type": "carpet"
           }
          ],
          "choropleth": [
           {
            "colorbar": {
             "outlinewidth": 0,
             "ticks": ""
            },
            "type": "choropleth"
           }
          ],
          "contour": [
           {
            "colorbar": {
             "outlinewidth": 0,
             "ticks": ""
            },
            "colorscale": [
             [
              0,
              "#0d0887"
             ],
             [
              0.1111111111111111,
              "#46039f"
             ],
             [
              0.2222222222222222,
              "#7201a8"
             ],
             [
              0.3333333333333333,
              "#9c179e"
             ],
             [
              0.4444444444444444,
              "#bd3786"
             ],
             [
              0.5555555555555556,
              "#d8576b"
             ],
             [
              0.6666666666666666,
              "#ed7953"
             ],
             [
              0.7777777777777778,
              "#fb9f3a"
             ],
             [
              0.8888888888888888,
              "#fdca26"
             ],
             [
              1,
              "#f0f921"
             ]
            ],
            "type": "contour"
           }
          ],
          "contourcarpet": [
           {
            "colorbar": {
             "outlinewidth": 0,
             "ticks": ""
            },
            "type": "contourcarpet"
           }
          ],
          "heatmap": [
           {
            "colorbar": {
             "outlinewidth": 0,
             "ticks": ""
            },
            "colorscale": [
             [
              0,
              "#0d0887"
             ],
             [
              0.1111111111111111,
              "#46039f"
             ],
             [
              0.2222222222222222,
              "#7201a8"
             ],
             [
              0.3333333333333333,
              "#9c179e"
             ],
             [
              0.4444444444444444,
              "#bd3786"
             ],
             [
              0.5555555555555556,
              "#d8576b"
             ],
             [
              0.6666666666666666,
              "#ed7953"
             ],
             [
              0.7777777777777778,
              "#fb9f3a"
             ],
             [
              0.8888888888888888,
              "#fdca26"
             ],
             [
              1,
              "#f0f921"
             ]
            ],
            "type": "heatmap"
           }
          ],
          "heatmapgl": [
           {
            "colorbar": {
             "outlinewidth": 0,
             "ticks": ""
            },
            "colorscale": [
             [
              0,
              "#0d0887"
             ],
             [
              0.1111111111111111,
              "#46039f"
             ],
             [
              0.2222222222222222,
              "#7201a8"
             ],
             [
              0.3333333333333333,
              "#9c179e"
             ],
             [
              0.4444444444444444,
              "#bd3786"
             ],
             [
              0.5555555555555556,
              "#d8576b"
             ],
             [
              0.6666666666666666,
              "#ed7953"
             ],
             [
              0.7777777777777778,
              "#fb9f3a"
             ],
             [
              0.8888888888888888,
              "#fdca26"
             ],
             [
              1,
              "#f0f921"
             ]
            ],
            "type": "heatmapgl"
           }
          ],
          "histogram": [
           {
            "marker": {
             "pattern": {
              "fillmode": "overlay",
              "size": 10,
              "solidity": 0.2
             }
            },
            "type": "histogram"
           }
          ],
          "histogram2d": [
           {
            "colorbar": {
             "outlinewidth": 0,
             "ticks": ""
            },
            "colorscale": [
             [
              0,
              "#0d0887"
             ],
             [
              0.1111111111111111,
              "#46039f"
             ],
             [
              0.2222222222222222,
              "#7201a8"
             ],
             [
              0.3333333333333333,
              "#9c179e"
             ],
             [
              0.4444444444444444,
              "#bd3786"
             ],
             [
              0.5555555555555556,
              "#d8576b"
             ],
             [
              0.6666666666666666,
              "#ed7953"
             ],
             [
              0.7777777777777778,
              "#fb9f3a"
             ],
             [
              0.8888888888888888,
              "#fdca26"
             ],
             [
              1,
              "#f0f921"
             ]
            ],
            "type": "histogram2d"
           }
          ],
          "histogram2dcontour": [
           {
            "colorbar": {
             "outlinewidth": 0,
             "ticks": ""
            },
            "colorscale": [
             [
              0,
              "#0d0887"
             ],
             [
              0.1111111111111111,
              "#46039f"
             ],
             [
              0.2222222222222222,
              "#7201a8"
             ],
             [
              0.3333333333333333,
              "#9c179e"
             ],
             [
              0.4444444444444444,
              "#bd3786"
             ],
             [
              0.5555555555555556,
              "#d8576b"
             ],
             [
              0.6666666666666666,
              "#ed7953"
             ],
             [
              0.7777777777777778,
              "#fb9f3a"
             ],
             [
              0.8888888888888888,
              "#fdca26"
             ],
             [
              1,
              "#f0f921"
             ]
            ],
            "type": "histogram2dcontour"
           }
          ],
          "mesh3d": [
           {
            "colorbar": {
             "outlinewidth": 0,
             "ticks": ""
            },
            "type": "mesh3d"
           }
          ],
          "parcoords": [
           {
            "line": {
             "colorbar": {
              "outlinewidth": 0,
              "ticks": ""
             }
            },
            "type": "parcoords"
           }
          ],
          "pie": [
           {
            "automargin": true,
            "type": "pie"
           }
          ],
          "scatter": [
           {
            "marker": {
             "colorbar": {
              "outlinewidth": 0,
              "ticks": ""
             }
            },
            "type": "scatter"
           }
          ],
          "scatter3d": [
           {
            "line": {
             "colorbar": {
              "outlinewidth": 0,
              "ticks": ""
             }
            },
            "marker": {
             "colorbar": {
              "outlinewidth": 0,
              "ticks": ""
             }
            },
            "type": "scatter3d"
           }
          ],
          "scattercarpet": [
           {
            "marker": {
             "colorbar": {
              "outlinewidth": 0,
              "ticks": ""
             }
            },
            "type": "scattercarpet"
           }
          ],
          "scattergeo": [
           {
            "marker": {
             "colorbar": {
              "outlinewidth": 0,
              "ticks": ""
             }
            },
            "type": "scattergeo"
           }
          ],
          "scattergl": [
           {
            "marker": {
             "colorbar": {
              "outlinewidth": 0,
              "ticks": ""
             }
            },
            "type": "scattergl"
           }
          ],
          "scattermapbox": [
           {
            "marker": {
             "colorbar": {
              "outlinewidth": 0,
              "ticks": ""
             }
            },
            "type": "scattermapbox"
           }
          ],
          "scatterpolar": [
           {
            "marker": {
             "colorbar": {
              "outlinewidth": 0,
              "ticks": ""
             }
            },
            "type": "scatterpolar"
           }
          ],
          "scatterpolargl": [
           {
            "marker": {
             "colorbar": {
              "outlinewidth": 0,
              "ticks": ""
             }
            },
            "type": "scatterpolargl"
           }
          ],
          "scatterternary": [
           {
            "marker": {
             "colorbar": {
              "outlinewidth": 0,
              "ticks": ""
             }
            },
            "type": "scatterternary"
           }
          ],
          "surface": [
           {
            "colorbar": {
             "outlinewidth": 0,
             "ticks": ""
            },
            "colorscale": [
             [
              0,
              "#0d0887"
             ],
             [
              0.1111111111111111,
              "#46039f"
             ],
             [
              0.2222222222222222,
              "#7201a8"
             ],
             [
              0.3333333333333333,
              "#9c179e"
             ],
             [
              0.4444444444444444,
              "#bd3786"
             ],
             [
              0.5555555555555556,
              "#d8576b"
             ],
             [
              0.6666666666666666,
              "#ed7953"
             ],
             [
              0.7777777777777778,
              "#fb9f3a"
             ],
             [
              0.8888888888888888,
              "#fdca26"
             ],
             [
              1,
              "#f0f921"
             ]
            ],
            "type": "surface"
           }
          ],
          "table": [
           {
            "cells": {
             "fill": {
              "color": "#EBF0F8"
             },
             "line": {
              "color": "white"
             }
            },
            "header": {
             "fill": {
              "color": "#C8D4E3"
             },
             "line": {
              "color": "white"
             }
            },
            "type": "table"
           }
          ]
         },
         "layout": {
          "annotationdefaults": {
           "arrowcolor": "#2a3f5f",
           "arrowhead": 0,
           "arrowwidth": 1
          },
          "autotypenumbers": "strict",
          "coloraxis": {
           "colorbar": {
            "outlinewidth": 0,
            "ticks": ""
           }
          },
          "colorscale": {
           "diverging": [
            [
             0,
             "#8e0152"
            ],
            [
             0.1,
             "#c51b7d"
            ],
            [
             0.2,
             "#de77ae"
            ],
            [
             0.3,
             "#f1b6da"
            ],
            [
             0.4,
             "#fde0ef"
            ],
            [
             0.5,
             "#f7f7f7"
            ],
            [
             0.6,
             "#e6f5d0"
            ],
            [
             0.7,
             "#b8e186"
            ],
            [
             0.8,
             "#7fbc41"
            ],
            [
             0.9,
             "#4d9221"
            ],
            [
             1,
             "#276419"
            ]
           ],
           "sequential": [
            [
             0,
             "#0d0887"
            ],
            [
             0.1111111111111111,
             "#46039f"
            ],
            [
             0.2222222222222222,
             "#7201a8"
            ],
            [
             0.3333333333333333,
             "#9c179e"
            ],
            [
             0.4444444444444444,
             "#bd3786"
            ],
            [
             0.5555555555555556,
             "#d8576b"
            ],
            [
             0.6666666666666666,
             "#ed7953"
            ],
            [
             0.7777777777777778,
             "#fb9f3a"
            ],
            [
             0.8888888888888888,
             "#fdca26"
            ],
            [
             1,
             "#f0f921"
            ]
           ],
           "sequentialminus": [
            [
             0,
             "#0d0887"
            ],
            [
             0.1111111111111111,
             "#46039f"
            ],
            [
             0.2222222222222222,
             "#7201a8"
            ],
            [
             0.3333333333333333,
             "#9c179e"
            ],
            [
             0.4444444444444444,
             "#bd3786"
            ],
            [
             0.5555555555555556,
             "#d8576b"
            ],
            [
             0.6666666666666666,
             "#ed7953"
            ],
            [
             0.7777777777777778,
             "#fb9f3a"
            ],
            [
             0.8888888888888888,
             "#fdca26"
            ],
            [
             1,
             "#f0f921"
            ]
           ]
          },
          "colorway": [
           "#636efa",
           "#EF553B",
           "#00cc96",
           "#ab63fa",
           "#FFA15A",
           "#19d3f3",
           "#FF6692",
           "#B6E880",
           "#FF97FF",
           "#FECB52"
          ],
          "font": {
           "color": "#2a3f5f"
          },
          "geo": {
           "bgcolor": "white",
           "lakecolor": "white",
           "landcolor": "#E5ECF6",
           "showlakes": true,
           "showland": true,
           "subunitcolor": "white"
          },
          "hoverlabel": {
           "align": "left"
          },
          "hovermode": "closest",
          "mapbox": {
           "style": "light"
          },
          "paper_bgcolor": "white",
          "plot_bgcolor": "#E5ECF6",
          "polar": {
           "angularaxis": {
            "gridcolor": "white",
            "linecolor": "white",
            "ticks": ""
           },
           "bgcolor": "#E5ECF6",
           "radialaxis": {
            "gridcolor": "white",
            "linecolor": "white",
            "ticks": ""
           }
          },
          "scene": {
           "xaxis": {
            "backgroundcolor": "#E5ECF6",
            "gridcolor": "white",
            "gridwidth": 2,
            "linecolor": "white",
            "showbackground": true,
            "ticks": "",
            "zerolinecolor": "white"
           },
           "yaxis": {
            "backgroundcolor": "#E5ECF6",
            "gridcolor": "white",
            "gridwidth": 2,
            "linecolor": "white",
            "showbackground": true,
            "ticks": "",
            "zerolinecolor": "white"
           },
           "zaxis": {
            "backgroundcolor": "#E5ECF6",
            "gridcolor": "white",
            "gridwidth": 2,
            "linecolor": "white",
            "showbackground": true,
            "ticks": "",
            "zerolinecolor": "white"
           }
          },
          "shapedefaults": {
           "line": {
            "color": "#2a3f5f"
           }
          },
          "ternary": {
           "aaxis": {
            "gridcolor": "white",
            "linecolor": "white",
            "ticks": ""
           },
           "baxis": {
            "gridcolor": "white",
            "linecolor": "white",
            "ticks": ""
           },
           "bgcolor": "#E5ECF6",
           "caxis": {
            "gridcolor": "white",
            "linecolor": "white",
            "ticks": ""
           }
          },
          "title": {
           "x": 0.05
          },
          "xaxis": {
           "automargin": true,
           "gridcolor": "white",
           "linecolor": "white",
           "ticks": "",
           "title": {
            "standoff": 15
           },
           "zerolinecolor": "white",
           "zerolinewidth": 2
          },
          "yaxis": {
           "automargin": true,
           "gridcolor": "white",
           "linecolor": "white",
           "ticks": "",
           "title": {
            "standoff": 15
           },
           "zerolinecolor": "white",
           "zerolinewidth": 2
          }
         }
        },
        "xaxis": {
         "anchor": "y",
         "domain": [
          0,
          1
         ]
        },
        "yaxis": {
         "anchor": "x",
         "domain": [
          0,
          1
         ]
        }
       }
      },
      "text/html": [
       "<div>                            <div id=\"a4b11aed-0baf-4b0c-937e-9efd6604dcac\" class=\"plotly-graph-div\" style=\"height:525px; width:100%;\"></div>            <script type=\"text/javascript\">                require([\"plotly\"], function(Plotly) {                    window.PLOTLYENV=window.PLOTLYENV || {};                                    if (document.getElementById(\"a4b11aed-0baf-4b0c-937e-9efd6604dcac\")) {                    Plotly.newPlot(                        \"a4b11aed-0baf-4b0c-937e-9efd6604dcac\",                        [{\"hovertemplate\":\"x: %{x}<br>y: %{y}<br>color: [%{z[0]}, %{z[1]}, %{z[2]}]<extra></extra>\",\"name\":\"0\",\"source\":\"data:image/png;base64,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\",\"type\":\"image\",\"xaxis\":\"x\",\"yaxis\":\"y\"}],                        {\"margin\":{\"t\":60},\"template\":{\"data\":{\"bar\":[{\"error_x\":{\"color\":\"#2a3f5f\"},\"error_y\":{\"color\":\"#2a3f5f\"},\"marker\":{\"line\":{\"color\":\"#E5ECF6\",\"width\":0.5},\"pattern\":{\"fillmode\":\"overlay\",\"size\":10,\"solidity\":0.2}},\"type\":\"bar\"}],\"barpolar\":[{\"marker\":{\"line\":{\"color\":\"#E5ECF6\",\"width\":0.5},\"pattern\":{\"fillmode\":\"overlay\",\"size\":10,\"solidity\":0.2}},\"type\":\"barpolar\"}],\"carpet\":[{\"aaxis\":{\"endlinecolor\":\"#2a3f5f\",\"gridcolor\":\"white\",\"linecolor\":\"white\",\"minorgridcolor\":\"white\",\"startlinecolor\":\"#2a3f5f\"},\"baxis\":{\"endlinecolor\":\"#2a3f5f\",\"gridcolor\":\"white\",\"linecolor\":\"white\",\"minorgridcolor\":\"white\",\"startlinecolor\":\"#2a3f5f\"},\"type\":\"carpet\"}],\"choropleth\":[{\"colorbar\":{\"outlinewidth\":0,\"ticks\":\"\"},\"type\":\"choropleth\"}],\"contour\":[{\"colorbar\":{\"outlinewidth\":0,\"ticks\":\"\"},\"colorscale\":[[0.0,\"#0d0887\"],[0.1111111111111111,\"#46039f\"],[0.2222222222222222,\"#7201a8\"],[0.3333333333333333,\"#9c179e\"],[0.4444444444444444,\"#bd3786\"],[0.5555555555555556,\"#d8576b\"],[0.6666666666666666,\"#ed7953\"],[0.7777777777777778,\"#fb9f3a\"],[0.8888888888888888,\"#fdca26\"],[1.0,\"#f0f921\"]],\"type\":\"contour\"}],\"contourcarpet\":[{\"colorbar\":{\"outlinewidth\":0,\"ticks\":\"\"},\"type\":\"contourcarpet\"}],\"heatmap\":[{\"colorbar\":{\"outlinewidth\":0,\"ticks\":\"\"},\"colorscale\":[[0.0,\"#0d0887\"],[0.1111111111111111,\"#46039f\"],[0.2222222222222222,\"#7201a8\"],[0.3333333333333333,\"#9c179e\"],[0.4444444444444444,\"#bd3786\"],[0.5555555555555556,\"#d8576b\"],[0.6666666666666666,\"#ed7953\"],[0.7777777777777778,\"#fb9f3a\"],[0.8888888888888888,\"#fdca26\"],[1.0,\"#f0f921\"]],\"type\":\"heatmap\"}],\"heatmapgl\":[{\"colorbar\":{\"outlinewidth\":0,\"ticks\":\"\"},\"colorscale\":[[0.0,\"#0d0887\"],[0.1111111111111111,\"#46039f\"],[0.2222222222222222,\"#7201a8\"],[0.3333333333333333,\"#9c179e\"],[0.4444444444444444,\"#bd3786\"],[0.5555555555555556,\"#d8576b\"],[0.6666666666666666,\"#ed7953\"],[0.7777777777777778,\"#fb9f3a\"],[0.8888888888888888,\"#fdca26\"],[1.0,\"#f0f921\"]],\"type\":\"heatmapgl\"}],\"histogram\":[{\"marker\":{\"pattern\":{\"fillmode\":\"overlay\",\"size\":10,\"solidity\":0.2}},\"type\":\"histogram\"}],\"histogram2d\":[{\"colorbar\":{\"outlinewidth\":0,\"ticks\":\"\"},\"colorscale\":[[0.0,\"#0d0887\"],[0.1111111111111111,\"#46039f\"],[0.2222222222222222,\"#7201a8\"],[0.3333333333333333,\"#9c179e\"],[0.4444444444444444,\"#bd3786\"],[0.5555555555555556,\"#d8576b\"],[0.6666666666666666,\"#ed7953\"],[0.7777777777777778,\"#fb9f3a\"],[0.8888888888888888,\"#fdca26\"],[1.0,\"#f0f921\"]],\"type\":\"histogram2d\"}],\"histogram2dcontour\":[{\"colorbar\":{\"outlinewidth\":0,\"ticks\":\"\"},\"colorscale\":[[0.0,\"#0d0887\"],[0.1111111111111111,\"#46039f\"],[0.2222222222222222,\"#7201a8\"],[0.3333333333333333,\"#9c179e\"],[0.4444444444444444,\"#bd3786\"],[0.5555555555555556,\"#d8576b\"],[0.6666666666666666,\"#ed7953\"],[0.7777777777777778,\"#fb9f3a\"],[0.8888888888888888,\"#fdca26\"],[1.0,\"#f0f921\"]],\"type\":\"histogram2dcontour\"}],\"mesh3d\":[{\"colorbar\":{\"outlinewidth\":0,\"ticks\":\"\"},\"type\":\"mesh3d\"}],\"parcoords\":[{\"line\":{\"colorbar\":{\"outlinewidth\":0,\"ticks\":\"\"}},\"type\":\"parcoords\"}],\"pie\":[{\"automargin\":true,\"type\":\"pie\"}],\"scatter\":[{\"marker\":{\"colorbar\":{\"outlinewidth\":0,\"ticks\":\"\"}},\"type\":\"scatter\"}],\"scatter3d\":[{\"line\":{\"colorbar\":{\"outlinewidth\":0,\"ticks\":\"\"}},\"marker\":{\"colorbar\":{\"outlinewidth\":0,\"ticks\":\"\"}},\"type\":\"scatter3d\"}],\"scattercarpet\":[{\"marker\":{\"colorbar\":{\"outlinewidth\":0,\"ticks\":\"\"}},\"type\":\"scattercarpet\"}],\"scattergeo\":[{\"marker\":{\"colorbar\":{\"outlinewidth\":0,\"ticks\":\"\"}},\"type\":\"scattergeo\"}],\"scattergl\":[{\"marker\":{\"colorbar\":{\"outlinewidth\":0,\"ticks\":\"\"}},\"type\":\"scattergl\"}],\"scattermapbox\":[{\"marker\":{\"colorbar\":{\"outlinewidth\":0,\"ticks\":\"\"}},\"type\":\"scattermapbox\"}],\"scatterpolar\":[{\"marker\":{\"colorbar\":{\"outlinewidth\":0,\"ticks\":\"\"}},\"type\":\"scatterpolar\"}],\"scatterpolargl\":[{\"marker\":{\"colorbar\":{\"outlinewidth\":0,\"ticks\":\"\"}},\"type\":\"scatterpolargl\"}],\"scatterternary\":[{\"marker\":{\"colorbar\":{\"outlinewidth\":0,\"ticks\":\"\"}},\"type\":\"scatterternary\"}],\"surface\":[{\"colorbar\":{\"outlinewidth\":0,\"ticks\":\"\"},\"colorscale\":[[0.0,\"#0d0887\"],[0.1111111111111111,\"#46039f\"],[0.2222222222222222,\"#7201a8\"],[0.3333333333333333,\"#9c179e\"],[0.4444444444444444,\"#bd3786\"],[0.5555555555555556,\"#d8576b\"],[0.6666666666666666,\"#ed7953\"],[0.7777777777777778,\"#fb9f3a\"],[0.8888888888888888,\"#fdca26\"],[1.0,\"#f0f921\"]],\"type\":\"surface\"}],\"table\":[{\"cells\":{\"fill\":{\"color\":\"#EBF0F8\"},\"line\":{\"color\":\"white\"}},\"header\":{\"fill\":{\"color\":\"#C8D4E3\"},\"line\":{\"color\":\"white\"}},\"type\":\"table\"}]},\"layout\":{\"annotationdefaults\":{\"arrowcolor\":\"#2a3f5f\",\"arrowhead\":0,\"arrowwidth\":1},\"autotypenumbers\":\"strict\",\"coloraxis\":{\"colorbar\":{\"outlinewidth\":0,\"ticks\":\"\"}},\"colorscale\":{\"diverging\":[[0,\"#8e0152\"],[0.1,\"#c51b7d\"],[0.2,\"#de77ae\"],[0.3,\"#f1b6da\"],[0.4,\"#fde0ef\"],[0.5,\"#f7f7f7\"],[0.6,\"#e6f5d0\"],[0.7,\"#b8e186\"],[0.8,\"#7fbc41\"],[0.9,\"#4d9221\"],[1,\"#276419\"]],\"sequential\":[[0.0,\"#0d0887\"],[0.1111111111111111,\"#46039f\"],[0.2222222222222222,\"#7201a8\"],[0.3333333333333333,\"#9c179e\"],[0.4444444444444444,\"#bd3786\"],[0.5555555555555556,\"#d8576b\"],[0.6666666666666666,\"#ed7953\"],[0.7777777777777778,\"#fb9f3a\"],[0.8888888888888888,\"#fdca26\"],[1.0,\"#f0f921\"]],\"sequentialminus\":[[0.0,\"#0d0887\"],[0.1111111111111111,\"#46039f\"],[0.2222222222222222,\"#7201a8\"],[0.3333333333333333,\"#9c179e\"],[0.4444444444444444,\"#bd3786\"],[0.5555555555555556,\"#d8576b\"],[0.6666666666666666,\"#ed7953\"],[0.7777777777777778,\"#fb9f3a\"],[0.8888888888888888,\"#fdca26\"],[1.0,\"#f0f921\"]]},\"colorway\":[\"#636efa\",\"#EF553B\",\"#00cc96\",\"#ab63fa\",\"#FFA15A\",\"#19d3f3\",\"#FF6692\",\"#B6E880\",\"#FF97FF\",\"#FECB52\"],\"font\":{\"color\":\"#2a3f5f\"},\"geo\":{\"bgcolor\":\"white\",\"lakecolor\":\"white\",\"landcolor\":\"#E5ECF6\",\"showlakes\":true,\"showland\":true,\"subunitcolor\":\"white\"},\"hoverlabel\":{\"align\":\"left\"},\"hovermode\":\"closest\",\"mapbox\":{\"style\":\"light\"},\"paper_bgcolor\":\"white\",\"plot_bgcolor\":\"#E5ECF6\",\"polar\":{\"angularaxis\":{\"gridcolor\":\"white\",\"linecolor\":\"white\",\"ticks\":\"\"},\"bgcolor\":\"#E5ECF6\",\"radialaxis\":{\"gridcolor\":\"white\",\"linecolor\":\"white\",\"ticks\":\"\"}},\"scene\":{\"xaxis\":{\"backgroundcolor\":\"#E5ECF6\",\"gridcolor\":\"white\",\"gridwidth\":2,\"linecolor\":\"white\",\"showbackground\":true,\"ticks\":\"\",\"zerolinecolor\":\"white\"},\"yaxis\":{\"backgroundcolor\":\"#E5ECF6\",\"gridcolor\":\"white\",\"gridwidth\":2,\"linecolor\":\"white\",\"showbackground\":true,\"ticks\":\"\",\"zerolinecolor\":\"white\"},\"zaxis\":{\"backgroundcolor\":\"#E5ECF6\",\"gridcolor\":\"white\",\"gridwidth\":2,\"linecolor\":\"white\",\"showbackground\":true,\"ticks\":\"\",\"zerolinecolor\":\"white\"}},\"shapedefaults\":{\"line\":{\"color\":\"#2a3f5f\"}},\"ternary\":{\"aaxis\":{\"gridcolor\":\"white\",\"linecolor\":\"white\",\"ticks\":\"\"},\"baxis\":{\"gridcolor\":\"white\",\"linecolor\":\"white\",\"ticks\":\"\"},\"bgcolor\":\"#E5ECF6\",\"caxis\":{\"gridcolor\":\"white\",\"linecolor\":\"white\",\"ticks\":\"\"}},\"title\":{\"x\":0.05},\"xaxis\":{\"automargin\":true,\"gridcolor\":\"white\",\"linecolor\":\"white\",\"ticks\":\"\",\"title\":{\"standoff\":15},\"zerolinecolor\":\"white\",\"zerolinewidth\":2},\"yaxis\":{\"automargin\":true,\"gridcolor\":\"white\",\"linecolor\":\"white\",\"ticks\":\"\",\"title\":{\"standoff\":15},\"zerolinecolor\":\"white\",\"zerolinewidth\":2}}},\"xaxis\":{\"anchor\":\"y\",\"domain\":[0.0,1.0]},\"yaxis\":{\"anchor\":\"x\",\"domain\":[0.0,1.0]}},                        {\"responsive\": true}                    ).then(function(){\n",
       "                            \n",
       "var gd = document.getElementById('a4b11aed-0baf-4b0c-937e-9efd6604dcac');\n",
       "var x = new MutationObserver(function (mutations, observer) {{\n",
       "        var display = window.getComputedStyle(gd).display;\n",
       "        if (!display || display === 'none') {{\n",
       "            console.log([gd, 'removed!']);\n",
       "            Plotly.purge(gd);\n",
       "            observer.disconnect();\n",
       "        }}\n",
       "}});\n",
       "\n",
       "// Listen for the removal of the full notebook cells\n",
       "var notebookContainer = gd.closest('#notebook-container');\n",
       "if (notebookContainer) {{\n",
       "    x.observe(notebookContainer, {childList: true});\n",
       "}}\n",
       "\n",
       "// Listen for the clearing of the current output cell\n",
       "var outputEl = gd.closest('.output');\n",
       "if (outputEl) {{\n",
       "    x.observe(outputEl, {childList: true});\n",
       "}}\n",
       "\n",
       "                        })                };                });            </script>        </div>"
      ]
     },
     "metadata": {},
     "output_type": "display_data"
    }
   ],
   "source": [
    "fig=px.imshow(cv2.resize(train_images[99],(205,136)))\n",
    "fig.show()"
   ]
  }
 ],
 "metadata": {
  "kernelspec": {
   "display_name": "Python 3",
   "language": "python",
   "name": "python3"
  },
  "language_info": {
   "codemirror_mode": {
    "name": "ipython",
    "version": 3
   },
   "file_extension": ".py",
   "mimetype": "text/x-python",
   "name": "python",
   "nbconvert_exporter": "python",
   "pygments_lexer": "ipython3",
   "version": "3.8.8"
  }
 },
 "nbformat": 4,
 "nbformat_minor": 5
}
